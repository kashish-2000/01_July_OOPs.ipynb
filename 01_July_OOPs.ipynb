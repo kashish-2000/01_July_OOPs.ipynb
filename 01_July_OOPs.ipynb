{
  "nbformat": 4,
  "nbformat_minor": 0,
  "metadata": {
    "colab": {
      "provenance": []
    },
    "kernelspec": {
      "name": "python3",
      "display_name": "Python 3"
    },
    "language_info": {
      "name": "python"
    }
  },
  "cells": [
    {
      "cell_type": "code",
      "execution_count": null,
      "metadata": {
        "id": "lquaneGFu7P6"
      },
      "outputs": [],
      "source": []
    },
    {
      "cell_type": "markdown",
      "source": [
        "Q1. What is the primary goal of Object-Oriented Programming (OOP)?\n",
        "\n",
        "Ans - These sub-goals are directed at the production of quality software, including good implementations of data structures and algorithms.OOP aims to model real-world entities or concepts as objects, which encapsulate data (attributes) and behavior (methods) into self-contained units.like we can use  - modularity , encapsulation, abstraction , polymorphism , inheritance etc."
      ],
      "metadata": {
        "id": "dzI1kHxgvX-j"
      }
    },
    {
      "cell_type": "markdown",
      "source": [
        "Q2.  What is an object in Python?\n",
        "\n",
        "Ans -> Objects are created from a class by calling the class as if it were a function. This process is called instantiation. When an object is created, it is known as an instance of the class. Each instance has its own unique identity and can have different attribute values."
      ],
      "metadata": {
        "id": "fAeHH741w4hB"
      }
    },
    {
      "cell_type": "markdown",
      "source": [
        "Q3. What is a class in Python?\n",
        "\n",
        "Ans - Class is a bluebrint of an object.class is a user defined data type. class is defined using the class keyword followed by the class name. The class definition can include variables and methods that define the behavior of objects created from that class."
      ],
      "metadata": {
        "id": "AS_ryFP9xU3V"
      }
    },
    {
      "cell_type": "markdown",
      "source": [
        "Q4. What are attributes and methods in a class?\n",
        "\n",
        "Ans - Class attributes are variables that are shared among all instances of the class. They are defined within the class but outside any methods. Instance attributes are specific to each object instance and are defined within methods or the special __init__() method."
      ],
      "metadata": {
        "id": "WNr5WKggyJoe"
      }
    },
    {
      "cell_type": "markdown",
      "source": [
        "Q5. What is the difference between class variables and instance variables in Python?\n",
        "\n",
        "Ans -  Class variables are shared among all instances of a class, while instance variables are specific to each object instance. Class variables are defined outside any method, while instance variables are typically defined within the __init__() method."
      ],
      "metadata": {
        "id": "djCYmqWpyasy"
      }
    },
    {
      "cell_type": "code",
      "source": [
        "class Person:\n",
        "    def __init__(self, name):\n",
        "        self.name = name\n",
        "\n",
        "    def Manish(self):\n",
        "        print(\"Hello, my name is\", self.name)\n",
        "\n",
        "# Creating an object (instance) of the Person class\n",
        "person1 = Person(\"kashish\")"
      ],
      "metadata": {
        "id": "jvoJgO5kwa5d"
      },
      "execution_count": null,
      "outputs": []
    },
    {
      "cell_type": "code",
      "source": [
        "# Accessing object attributes\n",
        "print(person1.name)  # Output: Alice"
      ],
      "metadata": {
        "colab": {
          "base_uri": "https://localhost:8080/"
        },
        "id": "o8s_GDrQzMrd",
        "outputId": "d3327df1-2c04-48cb-b1b0-4a6a28101dc0"
      },
      "execution_count": null,
      "outputs": [
        {
          "output_type": "stream",
          "name": "stdout",
          "text": [
            "kashish\n"
          ]
        }
      ]
    },
    {
      "cell_type": "code",
      "source": [
        "# Calling object methods\n",
        "person1.Manish()  # Output: Hello, my name is Alice"
      ],
      "metadata": {
        "colab": {
          "base_uri": "https://localhost:8080/"
        },
        "id": "5xX50TAMzRff",
        "outputId": "6c5a942a-2dca-4491-fef6-697ebd5e7810"
      },
      "execution_count": null,
      "outputs": [
        {
          "output_type": "stream",
          "name": "stdout",
          "text": [
            "Hello, my name is kashish\n"
          ]
        }
      ]
    },
    {
      "cell_type": "markdown",
      "source": [
        "Q6. What is the purpose of the self parameter in Python class methods?\n",
        "\n",
        "Ans- self parameter in class methods serves as a reference to the instance of the object that the method is being called on. the first parameter of any instance method in a class is self, I can choose a different name if I prefer. When a method is called on an object, the self parameter is automatically passed as a reference to that object."
      ],
      "metadata": {
        "id": "tJ2dTA3y1AYI"
      }
    },
    {
      "cell_type": "code",
      "source": [
        "class Person:\n",
        "    def __init__(self, name):\n",
        "        self.name = name\n",
        "\n",
        "    def greet(self):\n",
        "        print(\"Hello, my name is\", self.name)\n",
        "\n",
        "    def set_name(self, new_name):\n",
        "        self.name = new_name\n"
      ],
      "metadata": {
        "id": "ih6z-MXDzTYB"
      },
      "execution_count": null,
      "outputs": []
    },
    {
      "cell_type": "code",
      "source": [
        "# Creating an object of the Person class\n",
        "person1 = Person(\"kashish\")\n"
      ],
      "metadata": {
        "id": "quOJt9jn1wqi"
      },
      "execution_count": null,
      "outputs": []
    },
    {
      "cell_type": "code",
      "source": [
        "# Accessing the object's attribute using self\n",
        "print(person1.name)  # Output: kashish"
      ],
      "metadata": {
        "colab": {
          "base_uri": "https://localhost:8080/"
        },
        "id": "jFyvpR5a2RGZ",
        "outputId": "84bcd898-2e04-46d2-f337-dd670c1ebfd7"
      },
      "execution_count": null,
      "outputs": [
        {
          "output_type": "stream",
          "name": "stdout",
          "text": [
            "kashish\n"
          ]
        }
      ]
    },
    {
      "cell_type": "code",
      "source": [
        "# Calling a method using self\n",
        "person1.greet()  # Output: Hello, my name is kashish"
      ],
      "metadata": {
        "colab": {
          "base_uri": "https://localhost:8080/"
        },
        "id": "J8h-EMc32YJ2",
        "outputId": "d074a713-9723-459a-bf63-c74503360c34"
      },
      "execution_count": null,
      "outputs": [
        {
          "output_type": "stream",
          "name": "stdout",
          "text": [
            "Hello, my name is kashish\n"
          ]
        }
      ]
    },
    {
      "cell_type": "code",
      "source": [
        "# Modifying an attribute using self\n",
        "person1.set_name(\"honey\")\n",
        "person1.greet()  # Output: Hello, my name is Bob"
      ],
      "metadata": {
        "colab": {
          "base_uri": "https://localhost:8080/"
        },
        "id": "p3V5p6UE2cYz",
        "outputId": "25a75ed1-5d3b-4f26-dbcb-4759d0508e81"
      },
      "execution_count": null,
      "outputs": [
        {
          "output_type": "stream",
          "name": "stdout",
          "text": [
            "Hello, my name is honey\n"
          ]
        }
      ]
    },
    {
      "cell_type": "markdown",
      "source": [
        "7. For a library management system, you have to design the \"Book\" class with OOP\n",
        "principles in mind. The “Book” class will have following attributes:\n",
        "a. title: Represents the title of the book.\n",
        "b. author: Represents the author(s) of the book.\n",
        "c. isbn: Represents the ISBN (International Standard Book Number) of the book.\n",
        "d. publication_year: Represents the year of publication of the book.\n",
        "e. available_copies: Represents the number of copies available for checkout.\n",
        "The class will also include the following methods:\n",
        "a. check_out(self): Decrements the available copies by one if there are copies\n",
        "available for checkout.\n",
        "b. return_book(self): Increments the available copies by one when a book is\n",
        "returned.\n",
        "c. display_book_info(self): Displays the information about the book, including its\n",
        "attributes and the number of available copies."
      ],
      "metadata": {
        "id": "KNnTNdgs2rf7"
      }
    },
    {
      "cell_type": "code",
      "source": [
        "class Book:\n",
        "  def __init__(self,title,author,isbn,publication_year,available_copies):\n",
        "    self.title=title;\n",
        "    self.author=author;\n",
        "    self.isbn=isbn;\n",
        "    self.publication_year=publication_year;\n",
        "    self.available_copies=available_copies;\n",
        "\n",
        "  def check_out(self):\n",
        "    if self.available_copies > 0:\n",
        "      self.available_copies -= 1\n",
        "      print(\"Book checked out successfully.\")\n",
        "    else:\n",
        "      print(\"No copies of the book are currently available.\")\n",
        "  def return_book(self):\n",
        "    self.available_copies += 1\n",
        "    print(\"Book returned successfully.\")\n",
        "\n",
        "  def display_book_info(self):\n",
        "    print(\"Title:\", self.title)\n",
        "    print(\"Author(s):\", self.author)\n",
        "    print(\"ISBN:\", self.isbn)\n",
        "    print(\"Publication Year:\", self.publication_year)\n",
        "    print(\"Available Copies:\", self.available_copies)\n"
      ],
      "metadata": {
        "id": "YzKdDvZ92hVj"
      },
      "execution_count": null,
      "outputs": []
    },
    {
      "cell_type": "code",
      "source": [
        "book1 = Book(\"ABHIGYAN\", \"Mahatma Gnadhi\", \"677-6787-34378\", 1900, 3)\n"
      ],
      "metadata": {
        "id": "COgDJIb95-W1"
      },
      "execution_count": null,
      "outputs": []
    },
    {
      "cell_type": "code",
      "source": [
        "book1.display_book_info()"
      ],
      "metadata": {
        "colab": {
          "base_uri": "https://localhost:8080/"
        },
        "id": "pfUfUD0O6DQO",
        "outputId": "a0375feb-76b1-4eee-f334-e3b877047875"
      },
      "execution_count": null,
      "outputs": [
        {
          "output_type": "stream",
          "name": "stdout",
          "text": [
            "Title: ABHIGYAN\n",
            "Author(s): Mahatma Gnadhi\n",
            "ISBN: 677-6787-34378\n",
            "Publication Year: 1900\n",
            "Available Copies: 3\n"
          ]
        }
      ]
    },
    {
      "cell_type": "markdown",
      "source": [
        "Q8. For a ticket booking system, you have to design the \"Ticket\" class with OOP\n",
        "principles in mind. The “Ticket” class should have the following attributes:\n",
        "a. ticket_id: Represents the unique identifier for the ticket.\n",
        "b. event_name: Represents the name of the event.\n",
        "c. event_date: Represents the date of the event.\n",
        "d. venue: Represents the venue of the event.\n",
        "e. seat_number: Represents the seat number associated with the ticket.\n",
        "f. price: Represents the price of the ticket.\n",
        "g. is_reserved: Represents the reservation status of the ticket.\n",
        "The class also includes the following methods:\n",
        "a. reserve_ticket(self): Marks the ticket as reserved if it is not already reserved.\n",
        "b. cancel_reservation(self): Cancels the reservation of the ticket if it is already\n",
        "reserved.\n",
        "c. display_ticket_info(self): Displays the information about the ticket, including its\n",
        "attributes and reservation status."
      ],
      "metadata": {
        "id": "puS3C6wM6us0"
      }
    },
    {
      "cell_type": "code",
      "source": [
        "class Ticket:\n",
        "    def __init__(self, ticket_id, event_name, event_date, venue, seat_number, price):\n",
        "        self.ticket_id = ticket_id\n",
        "        self.event_name = event_name\n",
        "        self.event_date = event_date\n",
        "        self.venue = venue\n",
        "        self.seat_number = seat_number\n",
        "        self.price = price\n",
        "        self.is_reserved = False\n",
        "\n",
        "    def reserve_ticket(self):\n",
        "        if not self.is_reserved:\n",
        "            self.is_reserved = True\n",
        "            print(\"Ticket reserved successfully.\")\n",
        "        else:\n",
        "            print(\"Ticket is already reserved.\")\n",
        "\n",
        "    def cancel_reservation(self):\n",
        "        if self.is_reserved:\n",
        "            self.is_reserved = False\n",
        "            print(\"Reservation canceled successfully.\")\n",
        "        else:\n",
        "            print(\"Ticket is not currently reserved.\")\n",
        "\n",
        "    def display_ticket_info(self):\n",
        "        print(\"Ticket ID:\", self.ticket_id)\n",
        "        print(\"Event Name:\", self.event_name)\n",
        "        print(\"Event Date:\", self.event_date)\n",
        "        print(\"Venue:\", self.venue)\n",
        "        print(\"Seat Number:\", self.seat_number)\n",
        "        print(\"Price:\", self.price)\n",
        "        print(\"Reservation Status:\", \"Reserved\" if self.is_reserved else \"Not Reserved\")\n"
      ],
      "metadata": {
        "id": "TZ66h6t36IeF"
      },
      "execution_count": null,
      "outputs": []
    },
    {
      "cell_type": "code",
      "source": [
        "ticket1 = Ticket(1, \"Cricket\", \"2023-08-21\", \"SMS Stadium\", \"A16\", 1000)"
      ],
      "metadata": {
        "id": "8RtjSyk7niTl"
      },
      "execution_count": null,
      "outputs": []
    },
    {
      "cell_type": "code",
      "source": [
        "print(ticket1)"
      ],
      "metadata": {
        "colab": {
          "base_uri": "https://localhost:8080/"
        },
        "id": "hKEzBZCUoOoL",
        "outputId": "a57c837d-af1e-4c46-f0be-3862bce58783"
      },
      "execution_count": null,
      "outputs": [
        {
          "output_type": "stream",
          "name": "stdout",
          "text": [
            "<__main__.Ticket object at 0x7f21bee51930>\n"
          ]
        }
      ]
    },
    {
      "cell_type": "code",
      "source": [
        "ticket1.display_ticket_info()\n"
      ],
      "metadata": {
        "colab": {
          "base_uri": "https://localhost:8080/"
        },
        "id": "HlQmQeBipV-6",
        "outputId": "33fcec8b-18bc-4d76-ebfb-6a0d3c6f941b"
      },
      "execution_count": null,
      "outputs": [
        {
          "output_type": "stream",
          "name": "stdout",
          "text": [
            "Ticket ID: 1\n",
            "Event Name: Cricket\n",
            "Event Date: 2023-08-21\n",
            "Venue: SMS Stadium\n",
            "Seat Number: A16\n",
            "Price: 1000\n",
            "Reservation Status: Not Reserved\n"
          ]
        }
      ]
    },
    {
      "cell_type": "markdown",
      "source": [
        "Q9. You are creating a shopping cart for an e-commerce website. Using OOP to model\n",
        "the \"ShoppingCart\" functionality the class should contain following attributes and\n",
        "methods:\n",
        "a. items: Represents the list of items in the shopping cart.\n",
        "The class also includes the following methods:\n",
        "\n",
        "a. add_item(self, item): Adds an item to the shopping cart by appending it to the\n",
        "list of items.\n",
        "b. remove_item(self, item): Removes an item from the shopping cart if it exists in\n",
        "the list.\n",
        "c. view_cart(self): Displays the items currently present in the shopping cart.\n",
        "d. clear_cart(self): Clears all items from the shopping cart by reassigning an\n",
        "empty list to the items attribute."
      ],
      "metadata": {
        "id": "eueVW8OVq4T2"
      }
    },
    {
      "cell_type": "code",
      "source": [
        "class Shoppingcart:\n",
        "  def __init__(self):\n",
        "    self.items= []\n",
        "\n",
        "  def add_item(self, item):\n",
        "    self.items.append(item)\n",
        "    print(f\"{item} added to the shopping cart.\")\n",
        "\n",
        "  def remove_item(self, item):\n",
        "    if item in self.items:\n",
        "      self.items.remove(item);\n",
        "      print(f\" {item}remove from shopping cart \")\n",
        "    else:\n",
        "      print(f\" {item}not  exist in the cart\")\n",
        "\n",
        "  def view_cart(self):\n",
        "    if self.items:\n",
        "      print(\"Items in the shopping cart:\")\n",
        "      for item in self.items:\n",
        "        print(f\"- {item}\")\n",
        "    else:\n",
        "      print(\"shopping cart is empty\");\n",
        "\n",
        "  def clear_cart(self):\n",
        "    self.items = [];\n",
        "    print(\"shopping cart is clear\");\n",
        "\n",
        "\n"
      ],
      "metadata": {
        "id": "yxojb_zHpiAu"
      },
      "execution_count": 9,
      "outputs": []
    },
    {
      "cell_type": "code",
      "source": [
        "cart = Shoppingcart()\n",
        "cart.add_item(\"Shirt\")"
      ],
      "metadata": {
        "colab": {
          "base_uri": "https://localhost:8080/"
        },
        "id": "zwqQO1b6xIXY",
        "outputId": "24f2189b-caba-491c-a297-ea4f3c70a482"
      },
      "execution_count": 10,
      "outputs": [
        {
          "output_type": "stream",
          "name": "stdout",
          "text": [
            "Shirt added to the shopping cart.\n"
          ]
        }
      ]
    },
    {
      "cell_type": "code",
      "source": [
        "cart.add_item(\"Apple\")"
      ],
      "metadata": {
        "id": "42k_elUXxQdO",
        "colab": {
          "base_uri": "https://localhost:8080/"
        },
        "outputId": "2c426eda-a9f9-441a-9229-d7db5074bafd"
      },
      "execution_count": 11,
      "outputs": [
        {
          "output_type": "stream",
          "name": "stdout",
          "text": [
            "Apple added to the shopping cart.\n"
          ]
        }
      ]
    },
    {
      "cell_type": "code",
      "source": [
        "cart.view_cart()"
      ],
      "metadata": {
        "colab": {
          "base_uri": "https://localhost:8080/"
        },
        "id": "_t5IhK5njFCD",
        "outputId": "c00b6a43-236c-4803-b59e-ac098b41ffa9"
      },
      "execution_count": 12,
      "outputs": [
        {
          "output_type": "stream",
          "name": "stdout",
          "text": [
            "Items in the shopping cart:\n",
            "- Shirt\n",
            "- Apple\n"
          ]
        }
      ]
    },
    {
      "cell_type": "code",
      "source": [
        "cart.remove_item(\"Apple\")"
      ],
      "metadata": {
        "colab": {
          "base_uri": "https://localhost:8080/"
        },
        "id": "u3Y9SzzakuUW",
        "outputId": "a8508707-f4ee-4a93-cbf5-d291b4acafc1"
      },
      "execution_count": 14,
      "outputs": [
        {
          "output_type": "stream",
          "name": "stdout",
          "text": [
            " Appleremove from shopping cart \n"
          ]
        }
      ]
    },
    {
      "cell_type": "code",
      "source": [
        "cart.view_cart()"
      ],
      "metadata": {
        "colab": {
          "base_uri": "https://localhost:8080/"
        },
        "id": "p4FIcGuOky_W",
        "outputId": "dd18861c-3bda-4fc7-9987-564be2dc85bb"
      },
      "execution_count": 15,
      "outputs": [
        {
          "output_type": "stream",
          "name": "stdout",
          "text": [
            "Items in the shopping cart:\n",
            "- Shirt\n"
          ]
        }
      ]
    },
    {
      "cell_type": "markdown",
      "source": [
        "Q 10. Imagine a school management system. You have to design the \"Student\" class using\n",
        "OOP concepts.The “Student” class has the following attributes:\n",
        "a. name: Represents the name of the student.\n",
        "b. age: Represents the age of the student.\n",
        "c. grade: Represents the grade or class of the student.\n",
        "d. student_id: Represents the unique identifier for the student.\n",
        "e. attendance: Represents the attendance record of the student.\n",
        "The class should also include the following methods:\n",
        "a. update_attendance(self, date, status): Updates the attendance record of the\n",
        "student for a given date with the provided status (e.g., present or absent).\n",
        "b. get_attendance(self): Returns the attendance record of the student.\n",
        "c. get_average_attendance(self): Calculates and returns the average\n",
        "attendance percentage of the student based on their attendance record."
      ],
      "metadata": {
        "id": "osHRUViyk-l3"
      }
    },
    {
      "cell_type": "code",
      "source": [
        "class Student:\n",
        "  def __init__(self,name,age,grade,student_id):\n",
        "    self.name=name;\n",
        "    self.age=age;\n",
        "    self.grade=grade;\n",
        "    self.student_id=student_id;\n",
        "    self.attendance={};\n",
        "\n",
        "  def update_attendance(self, date, status):\n",
        "    self.attendance[date] = status\n",
        "\n",
        "  def get_attendance(self):\n",
        "    return self.attendance\n",
        "\n",
        "  def get_average_attendance(self):\n",
        "    total_days = len(self.attendance)\n",
        "    print(total_days)\n",
        "    present_days = sum(status == \"present\" for status in self.attendance.values())\n",
        "    if total_days > 0:\n",
        "      average_attendance = (present_days / total_days) * 100\n",
        "      return average_attendance\n",
        "    else:\n",
        "      return 0"
      ],
      "metadata": {
        "id": "rh6r2D04k8cN"
      },
      "execution_count": 20,
      "outputs": []
    },
    {
      "cell_type": "code",
      "source": [
        "student1 = Student(\"kashish\", 23, 10, \"kk072\")\n",
        "student2 = Student(\"lakshay\", 24, 9, \"l002\")"
      ],
      "metadata": {
        "id": "-mPx9pq0qh-p"
      },
      "execution_count": 21,
      "outputs": []
    },
    {
      "cell_type": "code",
      "source": [
        "student1.update_attendance(\"2023-07-01\", \"present\")\n",
        "student1.update_attendance(\"2023-07-02\", \"absent\")"
      ],
      "metadata": {
        "id": "yNsxkE3Hq96Z"
      },
      "execution_count": 22,
      "outputs": []
    },
    {
      "cell_type": "code",
      "source": [
        "student2.update_attendance(\"2023-07-02\", \"absent\")\n",
        "student2.update_attendance(\"2023-07-03\", \"absent\")"
      ],
      "metadata": {
        "id": "y2p8QtVxrQHA"
      },
      "execution_count": 23,
      "outputs": []
    },
    {
      "cell_type": "code",
      "source": [
        "print(student1.get_attendance())\n",
        "print(student2.get_attendance())"
      ],
      "metadata": {
        "colab": {
          "base_uri": "https://localhost:8080/"
        },
        "id": "ippXRJs5rU_Q",
        "outputId": "23f2ef22-adab-4fab-d65b-75e04e1c3b06"
      },
      "execution_count": 24,
      "outputs": [
        {
          "output_type": "stream",
          "name": "stdout",
          "text": [
            "{'2023-07-01': 'present', '2023-07-02': 'absent'}\n",
            "{'2023-07-02': 'absent', '2023-07-03': 'absent'}\n"
          ]
        }
      ]
    },
    {
      "cell_type": "code",
      "source": [
        "print(f\"Average attendance for {student1.name}: {student1.get_average_attendance()}%\")"
      ],
      "metadata": {
        "colab": {
          "base_uri": "https://localhost:8080/"
        },
        "id": "9ZE6MNIArXpT",
        "outputId": "852fec62-8237-4912-921a-0adbf65b2c70"
      },
      "execution_count": 25,
      "outputs": [
        {
          "output_type": "stream",
          "name": "stdout",
          "text": [
            "2\n",
            "Average attendance for kashish: 50.0%\n"
          ]
        }
      ]
    },
    {
      "cell_type": "code",
      "source": [],
      "metadata": {
        "id": "YGVMzHa1rloU"
      },
      "execution_count": null,
      "outputs": []
    }
  ]
}